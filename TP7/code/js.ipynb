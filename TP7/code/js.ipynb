{
 "metadata": {
  "language_info": {
   "codemirror_mode": {
    "name": "ipython",
    "version": 3
   },
   "file_extension": ".py",
   "mimetype": "text/x-python",
   "name": "python",
   "nbconvert_exporter": "python",
   "pygments_lexer": "ipython3",
   "version": "3.8.2-final"
  },
  "orig_nbformat": 2,
  "kernelspec": {
   "name": "python3",
   "display_name": "Python 3"
  }
 },
 "nbformat": 4,
 "nbformat_minor": 2,
 "cells": [
  {
   "source": [
    "### Trabajo Práctico CUBICACIÓN - GEOLOGÍA DE MINAS 2020- UNIVERSIDAD DE BUENOS AIRES\n",
    "###     _Objetivo_: Realizar la cubicación mediante el método de bloques de explotación en una sección de la Mina Bolañitos      Guanajuato, México.\n",
    "\n",
    "#### Resolución del TP en Python utilizando la librería Pandas con Jupyther Notebook. By Ana Paula O.R."
   ],
   "cell_type": "markdown",
   "metadata": {}
  },
  {
   "source": [
    "\n",
    "import pandas as pd\n",
    "import numpy as np\n",
    "import matplotlib.pyplot as plt\n"
   ],
   "cell_type": "code",
   "metadata": {},
   "execution_count": 6,
   "outputs": []
  },
  {
   "cell_type": "code",
   "execution_count": 7,
   "metadata": {},
   "outputs": [
    {
     "output_type": "execute_result",
     "data": {
      "text/plain": [
       "  Barreno  Desde (m)  Longitud del testigo (m)  Ancho verdadero (m)  Ag (g/t)  \\\n",
       "0    LC_1      167.5                       2.9                  2.5       413   \n",
       "1    LC_1      170.4                       0.4                  0.3      1220   \n",
       "2    LC_1      215.8                       2.9                  1.0        85   \n",
       "3    LC_2      129.4                       2.1                  2.0       400   \n",
       "4    LC_2      131.5                       0.3                  0.3      1145   \n",
       "\n",
       "   Au (g/t)  \n",
       "0      3.26  \n",
       "1      2.93  \n",
       "2      3.27  \n",
       "3      3.44  \n",
       "4      3.11  "
      ],
      "text/html": "<div>\n<style scoped>\n    .dataframe tbody tr th:only-of-type {\n        vertical-align: middle;\n    }\n\n    .dataframe tbody tr th {\n        vertical-align: top;\n    }\n\n    .dataframe thead th {\n        text-align: right;\n    }\n</style>\n<table border=\"1\" class=\"dataframe\">\n  <thead>\n    <tr style=\"text-align: right;\">\n      <th></th>\n      <th>Barreno</th>\n      <th>Desde (m)</th>\n      <th>Longitud del testigo (m)</th>\n      <th>Ancho verdadero (m)</th>\n      <th>Ag (g/t)</th>\n      <th>Au (g/t)</th>\n    </tr>\n  </thead>\n  <tbody>\n    <tr>\n      <th>0</th>\n      <td>LC_1</td>\n      <td>167.5</td>\n      <td>2.9</td>\n      <td>2.5</td>\n      <td>413</td>\n      <td>3.26</td>\n    </tr>\n    <tr>\n      <th>1</th>\n      <td>LC_1</td>\n      <td>170.4</td>\n      <td>0.4</td>\n      <td>0.3</td>\n      <td>1220</td>\n      <td>2.93</td>\n    </tr>\n    <tr>\n      <th>2</th>\n      <td>LC_1</td>\n      <td>215.8</td>\n      <td>2.9</td>\n      <td>1.0</td>\n      <td>85</td>\n      <td>3.27</td>\n    </tr>\n    <tr>\n      <th>3</th>\n      <td>LC_2</td>\n      <td>129.4</td>\n      <td>2.1</td>\n      <td>2.0</td>\n      <td>400</td>\n      <td>3.44</td>\n    </tr>\n    <tr>\n      <th>4</th>\n      <td>LC_2</td>\n      <td>131.5</td>\n      <td>0.3</td>\n      <td>0.3</td>\n      <td>1145</td>\n      <td>3.11</td>\n    </tr>\n  </tbody>\n</table>\n</div>"
     },
     "metadata": {},
     "execution_count": 7
    }
   ],
   "source": [
    "path = '/home/pau/Desktop/prueba_datoscsv.csv'\n",
    "\n",
    "data = pd.read_csv(path)\n",
    "\n",
    "data.head()\n"
   ]
  },
  {
   "cell_type": "code",
   "execution_count": 8,
   "metadata": {},
   "outputs": [
    {
     "output_type": "execute_result",
     "data": {
      "text/plain": [
       "   Barreno  Desde (m)  Longitud del testigo (m)  Ancho verdadero (m)  \\\n",
       "38   LC_24     272.80                      2.30                 2.10   \n",
       "39   LC_25     294.30                      8.30                 8.00   \n",
       "40   LC_28     253.20                      4.30                 4.20   \n",
       "41   LC_35     218.90                      3.30                 2.33   \n",
       "42   LC_35     220.65                      0.55                 0.39   \n",
       "\n",
       "    Ag (g/t)  Au (g/t)  \n",
       "38       180      1.62  \n",
       "39       475     20.71  \n",
       "40        77      0.65  \n",
       "41       248      4.90  \n",
       "42       659     12.05  "
      ],
      "text/html": "<div>\n<style scoped>\n    .dataframe tbody tr th:only-of-type {\n        vertical-align: middle;\n    }\n\n    .dataframe tbody tr th {\n        vertical-align: top;\n    }\n\n    .dataframe thead th {\n        text-align: right;\n    }\n</style>\n<table border=\"1\" class=\"dataframe\">\n  <thead>\n    <tr style=\"text-align: right;\">\n      <th></th>\n      <th>Barreno</th>\n      <th>Desde (m)</th>\n      <th>Longitud del testigo (m)</th>\n      <th>Ancho verdadero (m)</th>\n      <th>Ag (g/t)</th>\n      <th>Au (g/t)</th>\n    </tr>\n  </thead>\n  <tbody>\n    <tr>\n      <th>38</th>\n      <td>LC_24</td>\n      <td>272.80</td>\n      <td>2.30</td>\n      <td>2.10</td>\n      <td>180</td>\n      <td>1.62</td>\n    </tr>\n    <tr>\n      <th>39</th>\n      <td>LC_25</td>\n      <td>294.30</td>\n      <td>8.30</td>\n      <td>8.00</td>\n      <td>475</td>\n      <td>20.71</td>\n    </tr>\n    <tr>\n      <th>40</th>\n      <td>LC_28</td>\n      <td>253.20</td>\n      <td>4.30</td>\n      <td>4.20</td>\n      <td>77</td>\n      <td>0.65</td>\n    </tr>\n    <tr>\n      <th>41</th>\n      <td>LC_35</td>\n      <td>218.90</td>\n      <td>3.30</td>\n      <td>2.33</td>\n      <td>248</td>\n      <td>4.90</td>\n    </tr>\n    <tr>\n      <th>42</th>\n      <td>LC_35</td>\n      <td>220.65</td>\n      <td>0.55</td>\n      <td>0.39</td>\n      <td>659</td>\n      <td>12.05</td>\n    </tr>\n  </tbody>\n</table>\n</div>"
     },
     "metadata": {},
     "execution_count": 8
    }
   ],
   "source": [
    "data.tail()"
   ]
  },
  {
   "cell_type": "code",
   "execution_count": 9,
   "metadata": {},
   "outputs": [
    {
     "output_type": "execute_result",
     "data": {
      "text/plain": [
       "LC_14    4\n",
       "LC_24    3\n",
       "LC_1     3\n",
       "LC_10    2\n",
       "LC_3     2\n",
       "LC_23    2\n",
       "LC_17    2\n",
       "LC_2     2\n",
       "LC_13    2\n",
       "LC_21    2\n",
       "LC_35    2\n",
       "LC_20    2\n",
       "LC_4     2\n",
       "LC_12    2\n",
       "LC_9     2\n",
       "LC_8     1\n",
       "LC_11    1\n",
       "LC_18    1\n",
       "LC_28    1\n",
       "LC_15    1\n",
       "LC_16    1\n",
       "LC_25    1\n",
       "LC_22    1\n",
       "LC_19    1\n",
       "Name: Barreno, dtype: int64"
      ]
     },
     "metadata": {},
     "execution_count": 9
    }
   ],
   "source": [
    "data.Barreno.value_counts()        "
   ]
  },
  {
   "cell_type": "code",
   "execution_count": 10,
   "metadata": {},
   "outputs": [],
   "source": [
    "# Genero agrupo los datos según número de muestra (Barreno)  y genero un diccionario para almacenar los datos por cada num de muestra\n",
    "\n",
    "gr = data.groupby(['Barreno']) #datos ordenados por Barreno\n",
    "barrenos = dict(tuple(gr)) # dict con cada Barreno con sus respectivos valores/datos\n"
   ]
  },
  {
   "cell_type": "code",
   "execution_count": 11,
   "metadata": {},
   "outputs": [],
   "source": [
    "# Calculo la media de Au y Ag para cada Barreno \n",
    "\n",
    "Ag_mean = gr['Ag (g/t)'].mean()\n",
    "Au_mean = gr['Au (g/t)'].mean() \n",
    "\n",
    "# Calculo el ancho total por barreno\n",
    "suma_ancho = gr['Ancho verdadero (m)'].sum()\n"
   ]
  },
  {
   "cell_type": "code",
   "execution_count": 12,
   "metadata": {},
   "outputs": [
    {
     "output_type": "execute_result",
     "data": {
      "text/plain": [
       "       Ag_promedio  Au_promedio  Ancho_total\n",
       "LC_1    572.666667     3.153333         3.80\n",
       "LC_10   551.000000     3.385000         2.80\n",
       "LC_11   164.000000     0.550000         1.90\n",
       "LC_12   289.000000     4.330000         3.90\n",
       "LC_13   185.500000     2.500000         4.70\n",
       "LC_14   473.000000     4.847500         6.00\n",
       "LC_15   128.000000     1.280000         2.50\n",
       "LC_16    30.000000     0.250000         3.00\n",
       "LC_17   543.500000     5.815000         2.60\n",
       "LC_18    55.000000     3.390000         3.50\n",
       "LC_19    14.000000     0.390000         2.70\n",
       "LC_2    772.500000     3.275000         2.30\n",
       "LC_20   475.500000     4.065000        10.80\n",
       "LC_21   131.500000    28.535000         4.70\n",
       "LC_22    98.000000     6.480000         4.90\n",
       "LC_23   342.000000     6.680000         8.00\n",
       "LC_24   382.333333    16.643333        10.30\n",
       "LC_25   475.000000    20.710000         8.00\n",
       "LC_28    77.000000     0.650000         4.20\n",
       "LC_3    275.000000     5.705000         2.30\n",
       "LC_35   453.500000     8.475000         2.72\n",
       "LC_4   2640.500000    61.605000         1.10\n",
       "LC_8    368.000000     2.490000         1.80\n",
       "LC_9    876.500000     4.145000         2.00"
      ],
      "text/html": "<div>\n<style scoped>\n    .dataframe tbody tr th:only-of-type {\n        vertical-align: middle;\n    }\n\n    .dataframe tbody tr th {\n        vertical-align: top;\n    }\n\n    .dataframe thead th {\n        text-align: right;\n    }\n</style>\n<table border=\"1\" class=\"dataframe\">\n  <thead>\n    <tr style=\"text-align: right;\">\n      <th></th>\n      <th>Ag_promedio</th>\n      <th>Au_promedio</th>\n      <th>Ancho_total</th>\n    </tr>\n  </thead>\n  <tbody>\n    <tr>\n      <th>LC_1</th>\n      <td>572.666667</td>\n      <td>3.153333</td>\n      <td>3.80</td>\n    </tr>\n    <tr>\n      <th>LC_10</th>\n      <td>551.000000</td>\n      <td>3.385000</td>\n      <td>2.80</td>\n    </tr>\n    <tr>\n      <th>LC_11</th>\n      <td>164.000000</td>\n      <td>0.550000</td>\n      <td>1.90</td>\n    </tr>\n    <tr>\n      <th>LC_12</th>\n      <td>289.000000</td>\n      <td>4.330000</td>\n      <td>3.90</td>\n    </tr>\n    <tr>\n      <th>LC_13</th>\n      <td>185.500000</td>\n      <td>2.500000</td>\n      <td>4.70</td>\n    </tr>\n    <tr>\n      <th>LC_14</th>\n      <td>473.000000</td>\n      <td>4.847500</td>\n      <td>6.00</td>\n    </tr>\n    <tr>\n      <th>LC_15</th>\n      <td>128.000000</td>\n      <td>1.280000</td>\n      <td>2.50</td>\n    </tr>\n    <tr>\n      <th>LC_16</th>\n      <td>30.000000</td>\n      <td>0.250000</td>\n      <td>3.00</td>\n    </tr>\n    <tr>\n      <th>LC_17</th>\n      <td>543.500000</td>\n      <td>5.815000</td>\n      <td>2.60</td>\n    </tr>\n    <tr>\n      <th>LC_18</th>\n      <td>55.000000</td>\n      <td>3.390000</td>\n      <td>3.50</td>\n    </tr>\n    <tr>\n      <th>LC_19</th>\n      <td>14.000000</td>\n      <td>0.390000</td>\n      <td>2.70</td>\n    </tr>\n    <tr>\n      <th>LC_2</th>\n      <td>772.500000</td>\n      <td>3.275000</td>\n      <td>2.30</td>\n    </tr>\n    <tr>\n      <th>LC_20</th>\n      <td>475.500000</td>\n      <td>4.065000</td>\n      <td>10.80</td>\n    </tr>\n    <tr>\n      <th>LC_21</th>\n      <td>131.500000</td>\n      <td>28.535000</td>\n      <td>4.70</td>\n    </tr>\n    <tr>\n      <th>LC_22</th>\n      <td>98.000000</td>\n      <td>6.480000</td>\n      <td>4.90</td>\n    </tr>\n    <tr>\n      <th>LC_23</th>\n      <td>342.000000</td>\n      <td>6.680000</td>\n      <td>8.00</td>\n    </tr>\n    <tr>\n      <th>LC_24</th>\n      <td>382.333333</td>\n      <td>16.643333</td>\n      <td>10.30</td>\n    </tr>\n    <tr>\n      <th>LC_25</th>\n      <td>475.000000</td>\n      <td>20.710000</td>\n      <td>8.00</td>\n    </tr>\n    <tr>\n      <th>LC_28</th>\n      <td>77.000000</td>\n      <td>0.650000</td>\n      <td>4.20</td>\n    </tr>\n    <tr>\n      <th>LC_3</th>\n      <td>275.000000</td>\n      <td>5.705000</td>\n      <td>2.30</td>\n    </tr>\n    <tr>\n      <th>LC_35</th>\n      <td>453.500000</td>\n      <td>8.475000</td>\n      <td>2.72</td>\n    </tr>\n    <tr>\n      <th>LC_4</th>\n      <td>2640.500000</td>\n      <td>61.605000</td>\n      <td>1.10</td>\n    </tr>\n    <tr>\n      <th>LC_8</th>\n      <td>368.000000</td>\n      <td>2.490000</td>\n      <td>1.80</td>\n    </tr>\n    <tr>\n      <th>LC_9</th>\n      <td>876.500000</td>\n      <td>4.145000</td>\n      <td>2.00</td>\n    </tr>\n  </tbody>\n</table>\n</div>"
     },
     "metadata": {},
     "execution_count": 12
    }
   ],
   "source": [
    "# Genero un nuevo dataframe (tabla de datos) con leyes medias y ancho total por Barreno\n",
    "data_pro = pd.DataFrame()\n",
    "data_pro['Ag_promedio'] = Ag_mean\n",
    "data_pro['Au_promedio'] = Au_mean\n",
    "data_pro['Ancho_total'] = suma_ancho\n",
    "data_pro"
   ]
  },
  {
   "cell_type": "code",
   "execution_count": 13,
   "metadata": {},
   "outputs": [
    {
     "output_type": "error",
     "ename": "SyntaxError",
     "evalue": "invalid syntax (<ipython-input-13-9051631dc424>, line 4)",
     "traceback": [
      "\u001b[0;36m  File \u001b[0;32m\"<ipython-input-13-9051631dc424>\"\u001b[0;36m, line \u001b[0;32m4\u001b[0m\n\u001b[0;31m    def __init__(self, lado1=[], lado2=[], **lado2=[])\u001b[0m\n\u001b[0m                                                  ^\u001b[0m\n\u001b[0;31mSyntaxError\u001b[0m\u001b[0;31m:\u001b[0m invalid syntax\n"
     ]
    }
   ],
   "source": [
    "# Creo una clase da dato nueva llamada Lado para calcular las Leyes medias de Au y Ag por Bloque\n",
    "\n",
    "class CrearLado:\n",
    "    def __init__(self, lado1=[], lado2=[], **lado2=[])\n",
    "    self.lado1=lado1\n",
    "    self.lado2=lado2\n",
    "\n",
    "class Lado: \n",
    "    def __init__(self, *barreno, influencia=[]):   #influencia=[], ancho=[], ley_mediaAg=[], ley_mediaAu=[]):\n",
    "        self.influencia = influencia\n",
    "        self.barreno = barreno\n",
    "        \n",
    "        # self.ancho = ancho\n",
    "        # self.ley_mediaAg = ley_mediaAg\n",
    "        # self.ley_mediaAu = ley_mediaAu\n",
    "        \n",
    "    def potencia_media(self):\n",
    "        index = len(self.ancho) -1\n",
    "        sum1= 0\n",
    "        sum2 = 0\n",
    "        for elem, num in self.ancho, self.influencia:\n",
    "            sum1 += self.ancho[index]*self.influencia[index]\n",
    "            sum2 += self.influencia[index]\n",
    "        # self.potencia_media = (sum(self.ancho[index]*self.influencia))/sum(self.influencia)\n",
    "        return sum1/sum2\n",
    "\n",
    "    # def ley_media(potencia, influencia):\n",
    "\n",
    "    #     self.ley_mediaAg x PotenciaBarreno x InfluenciaBarreno\n",
    "\n",
    "lado1 = Lado(influencia=[60, 60], ancho=[2.8, 1.9], ley_mediaAg=[471.07, 164], ley_mediaAu=[2.86, 0.55])\n",
    "\n",
    "lado1.potencia_media()"
   ]
  },
  {
   "cell_type": "code",
   "execution_count": 37,
   "metadata": {},
   "outputs": [
    {
     "output_type": "execute_result",
     "data": {
      "text/plain": [
       "3.2285714285714286"
      ]
     },
     "metadata": {},
     "execution_count": 37
    }
   ],
   "source": [
    "def pot_med(muestras=[], influencias=[]):\n",
    "    suma = 0\n",
    "    for i in range(len(muestras)):\n",
    "        suma += muestras[i][2]*influencias[i] \n",
    "    return suma/sum(influencias)\n",
    "\n",
    "m1 = list(data_pro.iloc[0])\n",
    "m2 = list(data_pro.iloc[1])\n",
    "\n",
    "pot_med( [m1, m2], [30, 40])"
   ]
  },
  {
   "cell_type": "code",
   "execution_count": 23,
   "metadata": {},
   "outputs": [
    {
     "output_type": "error",
     "ename": "TypeError",
     "evalue": "fndos() missing 1 required positional argument: 'b'",
     "traceback": [
      "\u001b[0;31m---------------------------------------------------------------------------\u001b[0m",
      "\u001b[0;31mTypeError\u001b[0m                                 Traceback (most recent call last)",
      "\u001b[0;32m<ipython-input-23-6a369c094825>\u001b[0m in \u001b[0;36m<module>\u001b[0;34m\u001b[0m\n\u001b[1;32m      4\u001b[0m     \u001b[0;32mreturn\u001b[0m \u001b[0mfndos\u001b[0m\u001b[0;34m(\u001b[0m\u001b[0;34m)\u001b[0m\u001b[0;34m\u001b[0m\u001b[0;34m\u001b[0m\u001b[0m\n\u001b[1;32m      5\u001b[0m \u001b[0;34m\u001b[0m\u001b[0m\n\u001b[0;32m----> 6\u001b[0;31m \u001b[0mprint\u001b[0m\u001b[0;34m(\u001b[0m\u001b[0mfnuno\u001b[0m\u001b[0;34m(\u001b[0m\u001b[0;36m3\u001b[0m\u001b[0;34m)\u001b[0m\u001b[0;34m(\u001b[0m\u001b[0;36m2\u001b[0m\u001b[0;34m)\u001b[0m\u001b[0;34m)\u001b[0m\u001b[0;34m\u001b[0m\u001b[0;34m\u001b[0m\u001b[0m\n\u001b[0m",
      "\u001b[0;32m<ipython-input-23-6a369c094825>\u001b[0m in \u001b[0;36mfnuno\u001b[0;34m(a)\u001b[0m\n\u001b[1;32m      2\u001b[0m     \u001b[0;32mdef\u001b[0m \u001b[0mfndos\u001b[0m\u001b[0;34m(\u001b[0m\u001b[0mb\u001b[0m\u001b[0;34m)\u001b[0m\u001b[0;34m:\u001b[0m\u001b[0;34m\u001b[0m\u001b[0;34m\u001b[0m\u001b[0m\n\u001b[1;32m      3\u001b[0m         \u001b[0;32mreturn\u001b[0m \u001b[0ma\u001b[0m \u001b[0;34m+\u001b[0m \u001b[0mb\u001b[0m\u001b[0;34m\u001b[0m\u001b[0;34m\u001b[0m\u001b[0m\n\u001b[0;32m----> 4\u001b[0;31m     \u001b[0;32mreturn\u001b[0m \u001b[0mfndos\u001b[0m\u001b[0;34m(\u001b[0m\u001b[0;34m)\u001b[0m\u001b[0;34m\u001b[0m\u001b[0;34m\u001b[0m\u001b[0m\n\u001b[0m\u001b[1;32m      5\u001b[0m \u001b[0;34m\u001b[0m\u001b[0m\n\u001b[1;32m      6\u001b[0m \u001b[0mprint\u001b[0m\u001b[0;34m(\u001b[0m\u001b[0mfnuno\u001b[0m\u001b[0;34m(\u001b[0m\u001b[0;36m3\u001b[0m\u001b[0;34m)\u001b[0m\u001b[0;34m(\u001b[0m\u001b[0;36m2\u001b[0m\u001b[0;34m)\u001b[0m\u001b[0;34m)\u001b[0m\u001b[0;34m\u001b[0m\u001b[0;34m\u001b[0m\u001b[0m\n",
      "\u001b[0;31mTypeError\u001b[0m: fndos() missing 1 required positional argument: 'b'"
     ]
    }
   ],
   "source": [
    "# las variables en python son pasadas por asignación o por federencia?\n",
    "# Se modifica lo de afuera de una función al hcer f(f(x))? \n",
    "\n",
    "def fnuno(a):  \n",
    "    def fndos(b):\n",
    "        return a + b\n",
    "    return fndos()\n",
    "\n",
    "print(fnuno(3)(2))\n"
   ]
  },
  {
   "cell_type": "code",
   "execution_count": 37,
   "metadata": {},
   "outputs": [
    {
     "output_type": "execute_result",
     "data": {
      "text/plain": [
       "  Lado # Muestras  Pot_med  Influencia_#M\n",
       "0  [A]         m1      2.8             30\n",
       "1  [A]         m2      3.8             40\n",
       "2  [A]         m3      3.9             45"
      ],
      "text/html": "<div>\n<style scoped>\n    .dataframe tbody tr th:only-of-type {\n        vertical-align: middle;\n    }\n\n    .dataframe tbody tr th {\n        vertical-align: top;\n    }\n\n    .dataframe thead th {\n        text-align: right;\n    }\n</style>\n<table border=\"1\" class=\"dataframe\">\n  <thead>\n    <tr style=\"text-align: right;\">\n      <th></th>\n      <th>Lado</th>\n      <th># Muestras</th>\n      <th>Pot_med</th>\n      <th>Influencia_#M</th>\n    </tr>\n  </thead>\n  <tbody>\n    <tr>\n      <th>0</th>\n      <td>[A]</td>\n      <td>m1</td>\n      <td>2.8</td>\n      <td>30</td>\n    </tr>\n    <tr>\n      <th>1</th>\n      <td>[A]</td>\n      <td>m2</td>\n      <td>3.8</td>\n      <td>40</td>\n    </tr>\n    <tr>\n      <th>2</th>\n      <td>[A]</td>\n      <td>m3</td>\n      <td>3.9</td>\n      <td>45</td>\n    </tr>\n  </tbody>\n</table>\n</div>"
     },
     "metadata": {},
     "execution_count": 37
    }
   ],
   "source": [
    "# df[\"name_uppercase\"] = df['name'].map(lambda name: name.upper())\n",
    "\n",
    "bloque1 = pd.DataFrame({'Lado': [['A'], ['A'], ['A']], '# Muestras': ['m1', 'm2', 'm3'], 'Pot_med': [data_pro.iloc[1][2], data_pro.iloc[0][2], data_pro.iloc[3][2]], 'Influencia_#M': [30, 40, 45]})\n",
    "bloque1 \n"
   ]
  },
  {
   "cell_type": "code",
   "execution_count": 43,
   "metadata": {},
   "outputs": [],
   "source": [
    "# bloque1.iloc[3] = ['B', 'm4', data_pro.iloc[1][2], 55] "
   ]
  },
  {
   "cell_type": "code",
   "execution_count": null,
   "metadata": {},
   "outputs": [],
   "source": []
  }
 ]
}